{
 "cells": [
  {
   "cell_type": "code",
   "execution_count": 1,
   "id": "e98118b3",
   "metadata": {},
   "outputs": [],
   "source": [
    "from migdalcalc import migdalcalc\n",
    "import matplotlib.pyplot as plt\n",
    "import numpy as np\n",
    "import scipy.integrate as integrate"
   ]
  },
  {
   "cell_type": "code",
   "execution_count": 2,
   "id": "276be661",
   "metadata": {},
   "outputs": [],
   "source": [
    "Si_migdal = migdalcalc.migdalcalc(target='Si-28')"
   ]
  },
  {
   "cell_type": "code",
   "execution_count": 7,
   "id": "d0308b91",
   "metadata": {},
   "outputs": [
    {
     "name": "stdout",
     "output_type": "stream",
     "text": [
      "0.7727140122159787\n",
      "0.7727140122159786\n",
      "0.7727140122159788\n",
      "0.7727140122159786\n"
     ]
    }
   ],
   "source": [
    "A = 28\n",
    "En = 5e4\n",
    "E0 = (A/(A+1)**2)*En\n",
    "Er_spec = Si_migdal.nuc.dSigdEnr(En)\n",
    "ct_spec = Si_migdal.nuc.dSigdOmega(En)\n",
    "Sigma = Si_migdal.nuc.SIG(En)\n",
    "\n",
    "ER_int = integrate.quad(Er_spec, 0, 4*E0)[0]\n",
    "CT_int = integrate.quad(ct_spec, -1, 1)[0]\n",
    "T_int = integrate.quad(lambda x: (np.pi/180)*np.sin(np.pi*x/180)*ct_spec(np.cos(np.pi*x/180)), 0, 180)[0]\n",
    "\n",
    "print(Sigma)\n",
    "print(2*np.pi*ER_int)\n",
    "print(2*np.pi*CT_int)\n",
    "print(2*np.pi*T_int)"
   ]
  },
  {
   "cell_type": "code",
   "execution_count": null,
   "id": "f020bcc9",
   "metadata": {},
   "outputs": [],
   "source": []
  }
 ],
 "metadata": {
  "kernelspec": {
   "display_name": "Python 3 (ipykernel)",
   "language": "python",
   "name": "python3"
  },
  "language_info": {
   "codemirror_mode": {
    "name": "ipython",
    "version": 3
   },
   "file_extension": ".py",
   "mimetype": "text/x-python",
   "name": "python",
   "nbconvert_exporter": "python",
   "pygments_lexer": "ipython3",
   "version": "3.10.4"
  }
 },
 "nbformat": 4,
 "nbformat_minor": 5
}
