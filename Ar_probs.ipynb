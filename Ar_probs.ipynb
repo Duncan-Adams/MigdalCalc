{
 "cells": [
  {
   "cell_type": "code",
   "execution_count": 1,
   "id": "e98118b3",
   "metadata": {},
   "outputs": [],
   "source": [
    "from migdalcalc import migdalcalc\n",
    "from migdalcalc.migdal import kinematics as kin\n",
    "from migdalcalc.migdal import ionization as ion\n",
    "import numpy as np\n",
    "import scipy.integrate as integrate\n",
    "\n",
    "\n",
    "%matplotlib inline\n",
    "import matplotlib\n",
    "import matplotlib.pyplot as plt\n",
    "plt.rcParams['figure.dpi'] = 100\n",
    "plt.rcParams['text.usetex'] = False"
   ]
  },
  {
   "cell_type": "code",
   "execution_count": 2,
   "id": "0006b9ee",
   "metadata": {},
   "outputs": [],
   "source": [
    "#Change these Variables here\n",
    "En = 180e3 #Incident nuetron energy in eV\n",
    "Angle = 15 #Lab Frame Scattering angle in deg"
   ]
  },
  {
   "cell_type": "code",
   "execution_count": 3,
   "id": "328a86f4",
   "metadata": {},
   "outputs": [],
   "source": [
    "#Define various useful constants and quantities\n",
    "\n",
    "A = 40\n",
    "N_per_g = (6.02e23/A)\n",
    "barns_to_cm2 = 1e-24\n",
    "flux = 100 #nuetrons/cm^2/second\n",
    "days_to_seconds = 60*60*24 #days to seconds\n",
    "\n",
    "R = 5 #cm\n",
    "L = 1 #cm\n",
    "\n",
    "V = (np.pi*R**2)*L\n",
    "density = 1.395 #g / cm^3\n",
    "\n",
    "mass = 1000 #grams\n",
    "\n",
    "rate_prefactor = N_per_g*mass*barns_to_cm2*flux*days_to_seconds\n"
   ]
  },
  {
   "cell_type": "code",
   "execution_count": 12,
   "id": "276be661",
   "metadata": {},
   "outputs": [
    {
     "name": "stdout",
     "output_type": "stream",
     "text": [
      "Argon Elastic Cross Section (barns): 4.71758\n",
      "Argon Migdal Cross Section (barns): 0.02794221508259625\n",
      "\n",
      "Ratio migdal/elastic: 0.0059229976137333655\n",
      "Migdal Rate: 3.633382e+06 evts/kg/day\n"
     ]
    }
   ],
   "source": [
    "#Cross Section of Elastic Scattering\n",
    "Ar_migdal = migdalcalc.migdalcalc(target=\"Ar-40\")\n",
    "\n",
    "print(\"Argon Elastic Cross Section (barns): \" + str(Ar_migdal.nuc.SIG(En)))\n",
    "\n",
    "#Compute the Migdal Cross section\n",
    "c_range = np.linspace(-1, 1)\n",
    "\n",
    "mig_dE_spectrum = Ar_migdal.d2R_dc_dDeltaE(En)\n",
    "\n",
    "mig_dE_arr = []\n",
    "\n",
    "for c in c_range:\n",
    "    dE_max = kin.DeltaE_Max(A, En, c)\n",
    "    mig_dE = integrate.quad(lambda dE: mig_dE_spectrum(dE, c), 0, dE_max, limit=200, epsrel=1e-3)[0]\n",
    "    \n",
    "    mig_dE_arr.append(mig_dE)\n",
    "    \n",
    "    \n",
    "mig_total_xsec = integrate.trapz(mig_dE_arr, c_range)\n",
    "mig_rate = np.floor(mig_total_xsec*rate_prefactor)\n",
    "\n",
    "print(\"Argon Migdal Cross Section (barns): \" + str(mig_total_xsec))\n",
    "\n",
    "print()\n",
    "\n",
    "print(\"Ratio migdal/elastic: \" + str(mig_total_xsec/Ar_migdal.nuc.SIG(En)))\n",
    "\n",
    "print(\"Migdal Rate: \" + \"{r:e} evts/kg/day\".format(r=mig_rate))"
   ]
  },
  {
   "cell_type": "code",
   "execution_count": 5,
   "id": "2c3e0428",
   "metadata": {},
   "outputs": [
    {
     "name": "stdout",
     "output_type": "stream",
     "text": [
      "Elastic Recoil Energy: 306.4096985304249 eV\n"
     ]
    }
   ],
   "source": [
    "Ar_quench = lambda E: 0.25\n",
    "\n",
    "c = np.cos(np.pi*Angle/180)\n",
    "\n",
    "migdal_ionization_spectrum = Ar_migdal.dR_dEion(c, En, Ar_quench)\n",
    "\n",
    "binned_migdal_spectrum = ion.noblegas_electron_spectrum_binned(migdal_ionization_spectrum, Ar_quench, 19.5, 0.05,\n",
    "                                                              En, c, 40, flux=1, number_of_bins=20, fano=False)\n",
    "\n",
    "\n",
    "print(\"Elastic Recoil Energy: \" + str(kin.E_Recoil(0, c, 40, En)) + \" eV\")"
   ]
  },
  {
   "cell_type": "code",
   "execution_count": 14,
   "id": "fc8153e3",
   "metadata": {},
   "outputs": [
    {
     "data": {
      "image/png": "[encoded data removed]",
      "text/plain": [
       "<Figure size 600x400 with 1 Axes>"
      ]
     },
     "metadata": {
      "needs_background": "light"
     },
     "output_type": "display_data"
    }
   ],
   "source": [
    "plt.step(binned_migdal_spectrum[0], np.multiply(rate_prefactor,binned_migdal_spectrum[1]),where='mid')\n",
    "plt.yscale('log')\n",
    "plt.xlim(1, 20)\n",
    "plt.xlabel(\"Charge\")\n",
    "plt.ylabel('Events/day')\n",
    "plt.show()\n"
   ]
  },
  {
   "cell_type": "code",
   "execution_count": null,
   "id": "302b6180",
   "metadata": {},
   "outputs": [],
   "source": []
  }
 ],
 "metadata": {
  "kernelspec": {
   "display_name": "Python 3 (ipykernel)",
   "language": "python",
   "name": "python3"
  },
  "language_info": {
   "codemirror_mode": {
    "name": "ipython",
    "version": 3
   },
   "file_extension": ".py",
   "mimetype": "text/x-python",
   "name": "python",
   "nbconvert_exporter": "python",
   "pygments_lexer": "ipython3",
   "version": "3.10.5"
  }
 },
 "nbformat": 4,
 "nbformat_minor": 5
}
