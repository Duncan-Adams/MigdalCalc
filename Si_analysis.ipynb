{
 "cells": [
  {
   "cell_type": "code",
   "execution_count": 1,
   "id": "fb8d93b3",
   "metadata": {},
   "outputs": [],
   "source": [
    "from migdalcalc import migdalcalc as mc\n",
    "import matplotlib.pyplot as plt\n",
    "import numpy as np\n",
    "from migdalcalc.migdal import quench\n",
    "from migdalcalc.migdal import ionization as ion\n",
    "from migdalcalc.migdal import kinematics as kin"
   ]
  },
  {
   "cell_type": "code",
   "execution_count": 2,
   "id": "1aba9017",
   "metadata": {},
   "outputs": [
    {
     "name": "stdout",
     "output_type": "stream",
     "text": [
      "{'jendl40': ['data/Si/nuclear/Si28_SIG_jendl40.json', 'data/Si/nuclear/Si28_DA_jendl40.txt'], 'jeff33': ['data/Si/nuclear/Si28_SIG_jeff33.json', 'data/Si/nuclear/Si28_DA_jeff33.txt']}\n"
     ]
    }
   ],
   "source": [
    "Si_migdal = mc.migdalcalc(target=\"Si-28\", nuclear_data_name=\"jeff33\")"
   ]
  },
  {
   "cell_type": "code",
   "execution_count": 3,
   "id": "808b6fd3",
   "metadata": {},
   "outputs": [
    {
     "data": {
      "image/png": "[encoded data removed]",
      "text/plain": [
       "<Figure size 432x288 with 1 Axes>"
      ]
     },
     "metadata": {
      "needs_background": "light"
     },
     "output_type": "display_data"
    }
   ],
   "source": [
    "angle = 13 #13 deg\n",
    "c = np.cos(angle*np.pi/180)\n",
    "En = 54*1e3 #54 keV\n",
    "YL = lambda E: quench.Lindhard_Factor(E, 14, 28)\n",
    "YS = lambda E: quench.Y_Si_sarkis(E)\n",
    "Si_ionization_spectrum = Si_migdal.dR_dEion(c, En, YS, \"elf-ibe\")\n",
    "\n",
    "E_ion_range = np.geomspace(1e-3, 1e3, 1000)\n",
    "\n",
    "plt.plot(E_ion_range, Si_ionization_spectrum(E_ion_range))\n",
    "plt.yscale('log')\n",
    "plt.show()"
   ]
  },
  {
   "cell_type": "code",
   "execution_count": 4,
   "id": "7034c326",
   "metadata": {},
   "outputs": [],
   "source": [
    "A = Si_migdal.A\n",
    "N_per_g = (6.02e23/A)\n",
    "barns_to_cm2 = 1e-24\n",
    "flux = 1e3 #nuetrons/cm^2/second\n",
    "seconds_to_days = 60*60*24 #seconds to days\n",
    "phi_int = 2*np.pi #integral over phi\n",
    "     \n",
    "xsec_to_rate = flux*N_per_g*barns_to_cm2*seconds_to_days*phi_int\n",
    "\n",
    "elastic_spectrum = Si_migdal.nuc.dSig_dOmega(En)\n",
    "elastic_rate = xsec_to_rate*elastic_spectrum(c)"
   ]
  },
  {
   "cell_type": "code",
   "execution_count": 7,
   "id": "54ca480a",
   "metadata": {},
   "outputs": [
    {
     "name": "stderr",
     "output_type": "stream",
     "text": [
      "/tmp/ipykernel_8085/762569206.py:9: UserWarning: Attempted to set non-positive bottom ylim on a log-scaled axis.\n",
      "Invalid limit will be ignored.\n",
      "  plt.ylim(0, 1e4)\n"
     ]
    },
    {
     "data": {
      "image/png": "[encoded data removed]",
      "text/plain": [
       "<Figure size 432x288 with 1 Axes>"
      ]
     },
     "metadata": {
      "needs_background": "light"
     },
     "output_type": "display_data"
    }
   ],
   "source": [
    "ER_Q = kin.E_R_elastic(c, A, En)*YS(kin.E_R_elastic(c, A, En))\n",
    "n13, r13 = ion.Si_electron_spectrum(Si_ionization_spectrum, ER_Q,flux=xsec_to_rate)\n",
    "ne13, re13 = ion.Si_elastic_electron_spectrum_fixed_angle(ER_Q, elastic_rate,start_bin=0,number_of_bins=10)\n",
    "\n",
    "plt.step(n13, r13, where='mid',label='Migdal')\n",
    "plt.step(ne13, re13, where='mid',label='Elastic')\n",
    "plt.legend()\n",
    "plt.yscale('log')\n",
    "plt.ylim(1, 1e4)\n",
    "plt.xlim(0,10)\n",
    "plt.show()"
   ]
  },
  {
   "cell_type": "code",
   "execution_count": null,
   "id": "e7818ad9",
   "metadata": {},
   "outputs": [],
   "source": []
  }
 ],
 "metadata": {
  "kernelspec": {
   "display_name": "Python 3 (ipykernel)",
   "language": "python",
   "name": "python3"
  },
  "language_info": {
   "codemirror_mode": {
    "name": "ipython",
    "version": 3
   },
   "file_extension": ".py",
   "mimetype": "text/x-python",
   "name": "python",
   "nbconvert_exporter": "python",
   "pygments_lexer": "ipython3",
   "version": "3.10.4"
  }
 },
 "nbformat": 4,
 "nbformat_minor": 5
}
