{
 "cells": [
  {
   "cell_type": "code",
   "execution_count": 1,
   "id": "fb8d93b3",
   "metadata": {},
   "outputs": [],
   "source": [
    "from migdalcalc import migdalcalc as mc\n",
    "import matplotlib.pyplot as plt\n",
    "import numpy as np\n",
    "from migdalcalc.migdal import quench\n",
    "from migdalcalc.migdal import ionization as ion\n",
    "from migdalcalc.migdal import kinematics as kin"
   ]
  },
  {
   "cell_type": "code",
   "execution_count": 2,
   "id": "1aba9017",
   "metadata": {},
   "outputs": [],
   "source": [
    "Si_migdal = mc.migdalcalc(target=\"Si-28\")"
   ]
  },
  {
   "cell_type": "code",
   "execution_count": 3,
   "id": "808b6fd3",
   "metadata": {},
   "outputs": [
    {
     "data": {
      "image/png": "[encoded data removed]",
      "text/plain": [
       "<Figure size 432x288 with 1 Axes>"
      ]
     },
     "metadata": {
      "needs_background": "light"
     },
     "output_type": "display_data"
    }
   ],
   "source": [
    "angle = 13 #13 deg\n",
    "c = np.cos(angle*np.pi/180)\n",
    "En = 2000 #2 keV\n",
    "YL = lambda E: quench.Lindhard_Factor(E, 14, 28)\n",
    "Si_ionization_spectrum = Si_migdal.dR_dEion(c, En, YL, \"elf-ibe\")\n",
    "\n",
    "E_ion_range = np.geomspace(1e-3, 1e3, 1000)\n",
    "\n",
    "plt.plot(E_ion_range, Si_ionization_spectrum(E_ion_range))\n",
    "plt.yscale('log')\n",
    "plt.show()"
   ]
  },
  {
   "cell_type": "code",
   "execution_count": 4,
   "id": "7034c326",
   "metadata": {},
   "outputs": [],
   "source": [
    "A = Si_migdal.A\n",
    "N_per_g = (6.02e23/A)\n",
    "barns_to_cm2 = 1e-24\n",
    "flux = 1e3 #nuetrons/cm^2/second\n",
    "seconds_to_days = 60*60*24 #seconds to days\n",
    "phi_int = 2*np.pi #integral over phi\n",
    "     \n",
    "xsec_to_rate = flux*N_per_g*barns_to_cm2*seconds_to_days*phi_int"
   ]
  },
  {
   "cell_type": "code",
   "execution_count": 5,
   "id": "2d612bf9",
   "metadata": {},
   "outputs": [
    {
     "data": {
      "image/png": "[encoded data removed]",
      "text/plain": [
       "<Figure size 432x288 with 1 Axes>"
      ]
     },
     "metadata": {
      "needs_background": "light"
     },
     "output_type": "display_data"
    },
    {
     "name": "stdout",
     "output_type": "stream",
     "text": [
      "2446.627065465463\n"
     ]
    }
   ],
   "source": [
    "ER_Q = kin.E_R_elastic(c, A, En)*YL(kin.E_R_elastic(c, A, En))\n",
    "n13, r13 = ion.fixed_angle_electron_spectrum_Si_moments(Si_ionization_spectrum, ER_Q,flux=xsec_to_rate)\n",
    "\n",
    "plt.step(n13, r13, where='mid')\n",
    "plt.yscale('log')\n",
    "plt.show()\n",
    "print(r13[1])"
   ]
  },
  {
   "cell_type": "code",
   "execution_count": 6,
   "id": "4179ea0b",
   "metadata": {},
   "outputs": [
    {
     "name": "stdout",
     "output_type": "stream",
     "text": [
      "56.54796629867275\n"
     ]
    }
   ],
   "source": [
    "print(r13[2])"
   ]
  },
  {
   "cell_type": "code",
   "execution_count": null,
   "id": "e91b4bff",
   "metadata": {},
   "outputs": [],
   "source": []
  }
 ],
 "metadata": {
  "kernelspec": {
   "display_name": "Python 3 (ipykernel)",
   "language": "python",
   "name": "python3"
  },
  "language_info": {
   "codemirror_mode": {
    "name": "ipython",
    "version": 3
   },
   "file_extension": ".py",
   "mimetype": "text/x-python",
   "name": "python",
   "nbconvert_exporter": "python",
   "pygments_lexer": "ipython3",
   "version": "3.10.4"
  }
 },
 "nbformat": 4,
 "nbformat_minor": 5
}
