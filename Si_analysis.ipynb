{
 "cells": [
  {
   "cell_type": "code",
   "execution_count": 1,
   "id": "fb8d93b3",
   "metadata": {},
   "outputs": [],
   "source": [
    "from migdalcalc import migdalcalc as mc\n",
    "import matplotlib.pyplot as plt\n",
    "import numpy as np\n",
    "from migdalcalc.migdal import quench"
   ]
  },
  {
   "cell_type": "code",
   "execution_count": 2,
   "id": "1aba9017",
   "metadata": {},
   "outputs": [],
   "source": [
    "Si_migdal = mc.migdalcalc(target=\"Si-28\")"
   ]
  },
  {
   "cell_type": "code",
   "execution_count": 7,
   "id": "808b6fd3",
   "metadata": {},
   "outputs": [
    {
     "data": {
      "image/png": "[encoded data removed]",
      "text/plain": [
       "<Figure size 432x288 with 1 Axes>"
      ]
     },
     "metadata": {
      "needs_background": "light"
     },
     "output_type": "display_data"
    }
   ],
   "source": [
    "angle = 13 #13 deg\n",
    "c = np.cos(angle*np.pi/180)\n",
    "En = 2000 #2 keV\n",
    "YL = lambda E: quench.Lindhard_Factor(E, 14, 28)\n",
    "Si_ionization_spectrum = Si_migdal.dR_dEion(c, En, YL, \"elf\")\n",
    "\n",
    "E_ion_range = np.geomspace(1e-3, 1e3, 1000)\n",
    "\n",
    "plt.plot(E_ion_range, Si_ionization_spectrum(E_ion_range))\n",
    "plt.yscale('log')\n",
    "plt.show()"
   ]
  },
  {
   "cell_type": "code",
   "execution_count": null,
   "id": "7034c326",
   "metadata": {},
   "outputs": [],
   "source": []
  }
 ],
 "metadata": {
  "kernelspec": {
   "display_name": "Python 3 (ipykernel)",
   "language": "python",
   "name": "python3"
  },
  "language_info": {
   "codemirror_mode": {
    "name": "ipython",
    "version": 3
   },
   "file_extension": ".py",
   "mimetype": "text/x-python",
   "name": "python",
   "nbconvert_exporter": "python",
   "pygments_lexer": "ipython3",
   "version": "3.10.4"
  }
 },
 "nbformat": 4,
 "nbformat_minor": 5
}
